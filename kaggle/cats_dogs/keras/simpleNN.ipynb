{
 "cells": [
  {
   "cell_type": "code",
   "execution_count": 125,
   "metadata": {
    "collapsed": false
   },
   "outputs": [],
   "source": [
    "from sklearn.preprocessing import LabelEncoder\n",
    "from sklearn.cross_validation import train_test_split"
   ]
  },
  {
   "cell_type": "code",
   "execution_count": 126,
   "metadata": {
    "collapsed": false
   },
   "outputs": [],
   "source": [
    "from keras.layers import Activation,Dense\n",
    "from keras.utils.visualize_util import plot\n",
    "from keras.utils import np_utils\n",
    "from keras.models import Sequential"
   ]
  },
  {
   "cell_type": "code",
   "execution_count": 195,
   "metadata": {
    "collapsed": false
   },
   "outputs": [],
   "source": [
    "inputX = pd.read_csv('train_data.csv',header=None).values\n",
    "inputY = pd.read_csv('train_label.csv',header=None).values.ravel()"
   ]
  },
  {
   "cell_type": "code",
   "execution_count": 185,
   "metadata": {
    "collapsed": false
   },
   "outputs": [
    {
     "data": {
      "text/plain": [
       "(25000,)"
      ]
     },
     "execution_count": 185,
     "metadata": {},
     "output_type": "execute_result"
    }
   ],
   "source": [
    "le = LabelEncoder()\n",
    "inputY = le.fit_transform(inputY)\n",
    "inputY.shape"
   ]
  },
  {
   "cell_type": "code",
   "execution_count": 186,
   "metadata": {
    "collapsed": false
   },
   "outputs": [
    {
     "data": {
      "text/plain": [
       "(25000, 2)"
      ]
     },
     "execution_count": 186,
     "metadata": {},
     "output_type": "execute_result"
    }
   ],
   "source": [
    "inputY = np_utils.to_categorical(inputY)\n",
    "inputY.shape"
   ]
  },
  {
   "cell_type": "code",
   "execution_count": 187,
   "metadata": {
    "collapsed": true
   },
   "outputs": [],
   "source": [
    "inputX = inputX/255.0\n",
    "trainX,testX,trainY,testY = train_test_split(inputX,inputY,random_state=4,test_size=0.20)\n",
    "#trainX = inputX\n",
    "#trainY = inputY"
   ]
  },
  {
   "cell_type": "code",
   "execution_count": 188,
   "metadata": {
    "collapsed": false
   },
   "outputs": [],
   "source": [
    "#keras layers\n",
    "model = Sequential()\n",
    "model.add(Dense(output_dim=768,input_dim=1024,activation=\"relu\",name='layer1'))\n",
    "model.add(Dense(384,activation='relu',name='layer2'))\n",
    "model.add(Dense(2,activation='softmax',name='output'))"
   ]
  },
  {
   "cell_type": "code",
   "execution_count": 189,
   "metadata": {
    "collapsed": true
   },
   "outputs": [],
   "source": [
    "#keras compilation\n",
    "model.compile(loss='binary_crossentropy',optimizer='adam',metrics=['accuracy'])"
   ]
  },
  {
   "cell_type": "code",
   "execution_count": 190,
   "metadata": {
    "collapsed": false,
    "scrolled": true
   },
   "outputs": [
    {
     "name": "stdout",
     "output_type": "stream",
     "text": [
      "Train on 18000 samples, validate on 2000 samples\n",
      "Epoch 1/20\n",
      "18000/18000 [==============================] - 7s - loss: 0.7119 - acc: 0.5627 - val_loss: 0.6545 - val_acc: 0.6160\n",
      "Epoch 2/20\n",
      "18000/18000 [==============================] - 5s - loss: 0.6627 - acc: 0.5969 - val_loss: 0.6522 - val_acc: 0.6215\n",
      "Epoch 3/20\n",
      "18000/18000 [==============================] - 6s - loss: 0.6557 - acc: 0.6121 - val_loss: 0.6493 - val_acc: 0.6205\n",
      "Epoch 4/20\n",
      "18000/18000 [==============================] - 6s - loss: 0.6529 - acc: 0.6128 - val_loss: 0.6528 - val_acc: 0.6030\n",
      "Epoch 5/20\n",
      "18000/18000 [==============================] - 5s - loss: 0.6468 - acc: 0.6194 - val_loss: 0.6572 - val_acc: 0.5935\n",
      "Epoch 6/20\n",
      "18000/18000 [==============================] - 6s - loss: 0.6447 - acc: 0.6257 - val_loss: 0.6509 - val_acc: 0.6220\n",
      "Epoch 7/20\n",
      "18000/18000 [==============================] - 5s - loss: 0.6395 - acc: 0.6312 - val_loss: 0.6571 - val_acc: 0.6215\n",
      "Epoch 8/20\n",
      "18000/18000 [==============================] - 5s - loss: 0.6357 - acc: 0.6338 - val_loss: 0.6434 - val_acc: 0.6355\n",
      "Epoch 9/20\n",
      "18000/18000 [==============================] - 5s - loss: 0.6287 - acc: 0.6438 - val_loss: 0.6682 - val_acc: 0.5890\n",
      "Epoch 10/20\n",
      "18000/18000 [==============================] - 5s - loss: 0.6259 - acc: 0.6464 - val_loss: 0.6479 - val_acc: 0.6255\n",
      "Epoch 11/20\n",
      "18000/18000 [==============================] - 6s - loss: 0.6254 - acc: 0.6467 - val_loss: 0.6566 - val_acc: 0.6255\n",
      "Epoch 12/20\n",
      "18000/18000 [==============================] - 6s - loss: 0.6201 - acc: 0.6536 - val_loss: 0.6474 - val_acc: 0.6240\n",
      "Epoch 13/20\n",
      "18000/18000 [==============================] - 5s - loss: 0.6159 - acc: 0.6541 - val_loss: 0.6441 - val_acc: 0.6270\n",
      "Epoch 14/20\n",
      "18000/18000 [==============================] - 5s - loss: 0.6124 - acc: 0.6602 - val_loss: 0.6428 - val_acc: 0.6295\n",
      "Epoch 15/20\n",
      "18000/18000 [==============================] - 6s - loss: 0.6075 - acc: 0.6634 - val_loss: 0.6425 - val_acc: 0.6260\n",
      "Epoch 16/20\n",
      "18000/18000 [==============================] - 6s - loss: 0.6043 - acc: 0.6701 - val_loss: 0.6445 - val_acc: 0.6385\n",
      "Epoch 17/20\n",
      "18000/18000 [==============================] - 6s - loss: 0.5976 - acc: 0.6761 - val_loss: 0.6429 - val_acc: 0.6315\n",
      "Epoch 18/20\n",
      "18000/18000 [==============================] - 6s - loss: 0.5947 - acc: 0.6802 - val_loss: 0.6582 - val_acc: 0.6310\n",
      "Epoch 19/20\n",
      "18000/18000 [==============================] - 6s - loss: 0.5912 - acc: 0.6762 - val_loss: 0.6444 - val_acc: 0.6305\n",
      "Epoch 20/20\n",
      "18000/18000 [==============================] - 5s - loss: 0.5913 - acc: 0.6792 - val_loss: 0.6569 - val_acc: 0.6360\n"
     ]
    },
    {
     "data": {
      "text/plain": [
       "<keras.callbacks.History at 0x151124690>"
      ]
     },
     "execution_count": 190,
     "metadata": {},
     "output_type": "execute_result"
    }
   ],
   "source": [
    "model.fit(x=trainX,y=trainY,nb_epoch=20,batch_size=128,validation_split=0.1)"
   ]
  },
  {
   "cell_type": "code",
   "execution_count": 191,
   "metadata": {
    "collapsed": false
   },
   "outputs": [
    {
     "name": "stdout",
     "output_type": "stream",
     "text": [
      "4704/5000 [===========================>..] - ETA: 0s"
     ]
    }
   ],
   "source": [
    "accuracy = model.evaluate(x=testX,y=testY,batch_size=32)"
   ]
  },
  {
   "cell_type": "code",
   "execution_count": 192,
   "metadata": {
    "collapsed": false
   },
   "outputs": [
    {
     "name": "stdout",
     "output_type": "stream",
     "text": [
      "acc:0.6238\n"
     ]
    }
   ],
   "source": [
    "print '{0}:{1}'.format(model.metrics_names[1],accuracy[1])"
   ]
  },
  {
   "cell_type": "code",
   "execution_count": 193,
   "metadata": {
    "collapsed": false
   },
   "outputs": [
    {
     "name": "stdout",
     "output_type": "stream",
     "text": [
      "Saved model to disk\n"
     ]
    }
   ],
   "source": [
    "# serialize model to JSON\n",
    "model_json = model.to_json()\n",
    "with open(\"model.json\", \"w\") as json_file:\n",
    "    json_file.write(model_json)\n",
    "# serialize weights to HDF5\n",
    "model.save_weights(\"model.h5\")\n",
    "print(\"Saved model to disk\")"
   ]
  },
  {
   "cell_type": "code",
   "execution_count": 194,
   "metadata": {
    "collapsed": true
   },
   "outputs": [],
   "source": [
    "plot(model,to_file='model.png',show_shapes=True)"
   ]
  },
  {
   "cell_type": "code",
   "execution_count": null,
   "metadata": {
    "collapsed": true
   },
   "outputs": [],
   "source": []
  }
 ],
 "metadata": {
  "kernelspec": {
   "display_name": "Python 2",
   "language": "python",
   "name": "python2"
  },
  "language_info": {
   "codemirror_mode": {
    "name": "ipython",
    "version": 2
   },
   "file_extension": ".py",
   "mimetype": "text/x-python",
   "name": "python",
   "nbconvert_exporter": "python",
   "pygments_lexer": "ipython2",
   "version": "2.7.10"
  }
 },
 "nbformat": 4,
 "nbformat_minor": 0
}
